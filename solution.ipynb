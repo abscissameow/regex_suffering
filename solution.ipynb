{
 "cells": [
  {
   "attachments": {},
   "cell_type": "markdown",
   "metadata": {},
   "source": [
    "# придумаем алгоритм и обучим всё на train-данных"
   ]
  },
  {
   "attachments": {},
   "cell_type": "markdown",
   "metadata": {},
   "source": [
    "берём данные из train $\\Rightarrow$ правильные ответы предобрабатываем (сильно упрощаем) - получаем шаблоны $\\Rightarrow$ \n",
    "\n",
    "\n",
    "$\\Rightarrow$ новый текст будем предобрабатывать и искать подходящий шаблон $\\Rightarrow$ восстанавливаем исходный вид текста, соответствующего шаблону"
   ]
  },
  {
   "cell_type": "code",
   "execution_count": 214,
   "metadata": {},
   "outputs": [],
   "source": [
    "import json\n",
    "\n",
    "with open('train.json', 'r') as f:\n",
    "    data = json.load(f)\n",
    "\n",
    "# списки для хранения текстов и ответов (тип \"а\" - обеспечение исполнения контракта, тип \"b\" - обеспечение гарантийных обязательств)\n",
    "text_a = []\n",
    "answer_a = []\n",
    "text_b = []\n",
    "answer_b = []\n",
    "\n",
    "for obj in data:\n",
    "    if obj['label'] == 'обеспечение исполнения контракта':\n",
    "        text_a.append(obj['text'])\n",
    "        answer_a.append(obj['extracted_part']['text'][0])\n",
    "    elif obj['label'] == 'обеспечение гарантийных обязательств':\n",
    "        text_b.append(obj['text'])\n",
    "        answer_b.append(obj['extracted_part']['text'][0])"
   ]
  },
  {
   "attachments": {},
   "cell_type": "markdown",
   "metadata": {},
   "source": [
    "### для 'обеспечение исполнения контракта'"
   ]
  },
  {
   "cell_type": "code",
   "execution_count": 215,
   "metadata": {},
   "outputs": [],
   "source": [
    "import regex as re\n",
    "import random\n",
    "import numpy as np\n",
    "\n",
    "# предобработаем данные - избавимся от чисел (цифрами и словами), регистров, символов, английских букв и другой встретившейся гадости\n",
    "def preprocess_text(text):\n",
    "    text = text.lower()\n",
    "    text = re.sub(r'\\d+', '', text)\n",
    "    pattern = r'[\\/a-zA-Z]'\n",
    "    text = re.sub(pattern, '', text)\n",
    "    text = re.sub(r'[№\\'«»…,.–%()_:-]', '', text)\n",
    "    text = re.sub(r'\\u200b', '', text)\n",
    "    numeral_pattern = r'\\b(?:ноль|один|два|три|четыре|пять|шесть|семь|восемь|девять|десять|одиннадцать|двенадцать|тринадцать|четырнадцать|пятнадцать|шестнадцать|семнадцать|восемнадцать|девятнадцать|двадцать|тридцать|сорок|пятьдесят|шестьдесят|семьдесят|восемьдесят|девяносто|сто|двести|триста|четыреста|пятьсот|шестьсот|семьсот|восемьсот|девятьсот|тысяча|тысяч|миллион|пяти|трёх|десяти|двадцати|тридцати|сорока|пятидесяти|шестидесяти|семидесяти|восьмидесяти|девяноста|ста)\\b' # да а что\n",
    "    text = re.sub(numeral_pattern, '', text, flags=re.IGNORECASE)\n",
    "    text = ' '.join(text.split())\n",
    "    return text\n",
    "\n",
    "preprocessed_answers = [preprocess_text(text) for text in answer_a]\n",
    "preprocessed_texts = [preprocess_text(text) for text in text_a]\n",
    "\n",
    "# разобьем train:\n",
    "train_text_size = int(0.9*len(text_a))\n",
    "\n",
    "train_text_index = random.sample(range(0, len(text_a)), train_text_size)\n",
    "train_text = np.array(preprocessed_texts)[train_text_index]\n",
    "train_answers = np.array(preprocessed_answers)[train_text_index]\n",
    "\n",
    "# теперь все предобработанные правильные ответы из train-датасета находятся в этом ящике:\n",
    "shablon = set(train_answers)"
   ]
  },
  {
   "cell_type": "code",
   "execution_count": 216,
   "metadata": {},
   "outputs": [],
   "source": [
    "# будем искать самый длинный шаблон, который встретится в предобработанном валидационном тексте в качестве подстроки\n",
    "subs = []\n",
    "\n",
    "test_text_index = list(set(range(len(text_a)))-set(train_text_index))\n",
    "test_text = np.array(preprocessed_texts)[test_text_index]\n",
    "test_answers = np.array(preprocessed_answers)[test_text_index]\n",
    "\n",
    "\n",
    "for text in test_text:\n",
    "    found_substring = ''\n",
    "    max_length = 0\n",
    "    try:\n",
    "        # определение самой длинной подстроки\n",
    "        for substring in shablon:\n",
    "            match = re.search(substring, text)\n",
    "            if match and len(substring) > max_length:\n",
    "                found_substring = substring\n",
    "                max_length = len(substring)\n",
    "    except:\n",
    "        print(type(substring))\n",
    "        break\n",
    "\n",
    "    subs.append(found_substring)\n",
    "    \n"
   ]
  },
  {
   "cell_type": "code",
   "execution_count": 217,
   "metadata": {},
   "outputs": [],
   "source": [
    "#  найдя шаблон, будем восстанавливать его реальный вид в тексте\n",
    "\n",
    "prediction = []\n",
    "\n",
    "text_a_test = np.array(text_a)[test_text_index]\n",
    "answer_a_test = np.array(answer_a)[test_text_index]\n",
    "\n",
    "pattern = r'[\\/a-zA-Z0-9№«»,.–%()_:\\-]'\n",
    "for i in range(len(test_text)):\n",
    "    if subs[i] == '':\n",
    "        prediction.append('')\n",
    "    else:\n",
    "        text = text_a_test[i]\n",
    "        target = r\"\\b\" + (r\"\\b.+?\\b\").join(subs[i].split()) + r\"\\b\"  # разобьём шаблон - между словами могут прятаться удалённые символы и числа\n",
    "        matches = re.findall(target, text, re.IGNORECASE,overlapped=True) # ищем всё, что напоминает разбитый шаблон\n",
    "    \n",
    "\n",
    "        if matches:\n",
    "            min_match = min(matches, key=len) # ищем минимальную подстроку, содержащую реальный вид шаблона\n",
    "           \n",
    "            start_index = text.find(min_match)\n",
    "            end_index = start_index + len(min_match)\n",
    "            match1 = re.match(r' ' + pattern + '+', text[end_index:])\n",
    "\n",
    "\n",
    "            # добавим концы строк - если после конца шаблона были символы и числа\n",
    "            if text[end_index]=='.':\n",
    "                min_match = min_match + \".\"    \n",
    "            else:\n",
    "                match1 = re.match(r' ' + pattern + '+', text[end_index:])\n",
    "                if match1:\n",
    "                    matched_chars = match1.group(0)[1:]\n",
    "                    min_match = min_match + \" \" + matched_chars\n",
    "                match2 = re.match(pattern + '+', text[end_index:])\n",
    "                if match2:\n",
    "                    matched_chars = match2.group(0)[0:]\n",
    "                    min_match = min_match + matched_chars\n",
    "\n",
    "        else:\n",
    "            min_match = '' \n",
    "        \n",
    "        \n",
    "        prediction.append(min_match)\n"
   ]
  },
  {
   "cell_type": "code",
   "execution_count": 221,
   "metadata": {},
   "outputs": [
    {
     "name": "stdout",
     "output_type": "stream",
     "text": [
      "Как часто брали правильный шаблон: 62.63%\n"
     ]
    }
   ],
   "source": [
    "def calculate_accuracy(test_text, predictions):\n",
    "    matches = sum([1 for i in range(len(test_text)) if test_text[i] == predictions[i]])\n",
    "    accuracy = matches / len(test_text)\n",
    "    \n",
    "    return accuracy\n",
    "\n",
    "\n",
    "accuracy = calculate_accuracy(test_answers, subs)\n",
    "\n",
    "print(\"Как часто брали правильный шаблон: {:.2%}\".format(accuracy))"
   ]
  },
  {
   "cell_type": "code",
   "execution_count": 220,
   "metadata": {},
   "outputs": [
    {
     "name": "stdout",
     "output_type": "stream",
     "text": [
      "Как часто доставали нужную информацию: 47.47%\n"
     ]
    }
   ],
   "source": [
    "accuracy_real = calculate_accuracy(prediction, answer_a_test)\n",
    "print(\"Как часто доставали нужную информацию: {:.2%}\".format(accuracy_real))"
   ]
  },
  {
   "attachments": {},
   "cell_type": "markdown",
   "metadata": {},
   "source": [
    "### для 'обеспечение исполнения контракта'"
   ]
  },
  {
   "cell_type": "code",
   "execution_count": 222,
   "metadata": {},
   "outputs": [],
   "source": [
    "preprocessed_answersB = [preprocess_text(text) for text in answer_b]\n",
    "preprocessed_textsB = [preprocess_text(text) for text in text_b]\n",
    "\n",
    "\n",
    "train_text_sizeB = int(0.9*len(text_b))\n",
    "\n",
    "train_text_indexB = random.sample(range(0, len(text_b)), train_text_sizeB)\n",
    "train_textB = np.array(preprocessed_textsB)[train_text_indexB]\n",
    "train_answersB = np.array(preprocessed_answersB)[train_text_indexB]\n",
    "\n",
    "shablonB = set(train_answersB)"
   ]
  },
  {
   "cell_type": "code",
   "execution_count": 51,
   "metadata": {},
   "outputs": [],
   "source": [
    "subsB = []\n",
    "\n",
    "test_text_indexB = list(set(range(len(text_b)))-set(train_text_indexB))\n",
    "test_textB = np.array(preprocessed_textsB)[test_text_indexB]\n",
    "test_answersB = np.array(preprocessed_answersB)[test_text_indexB]\n",
    "\n",
    "\n",
    "\n",
    "\n",
    "for text in test_textB:\n",
    "\n",
    "    found_substring = ''\n",
    "    max_length = 0\n",
    "    try:\n",
    "    \n",
    "        for substring in shablonB:\n",
    "            match = re.search(substring, text)\n",
    "            if match and len(substring) > max_length:\n",
    "                found_substring = substring\n",
    "                max_length = len(substring)\n",
    "    except:\n",
    "        print(type(substring))\n",
    "        break\n",
    "                \n",
    "\n",
    "\n",
    "    subsB.append(found_substring)\n",
    "    \n"
   ]
  },
  {
   "cell_type": "code",
   "execution_count": 52,
   "metadata": {},
   "outputs": [],
   "source": [
    "text_b_test = np.array(text_b)[test_text_indexB]\n",
    "answer_b_test = np.array(answer_b)[test_text_indexB]"
   ]
  },
  {
   "cell_type": "code",
   "execution_count": 134,
   "metadata": {},
   "outputs": [],
   "source": [
    "predictionB = []\n",
    "\n",
    "text_b_test = np.array(text_b)[test_text_indexB]\n",
    "answer_b_test = np.array(answer_b)[test_text_indexB]\n",
    "pattern = r'[\\/a-zA-Z0-9№«»,.–%()_:\\-]'\n",
    "for i in range(len(test_textB)):\n",
    "    if subs[i] == '':\n",
    "        predictionB.append('')\n",
    "    else:\n",
    "        text = text_b_test[i]\n",
    "        target = r\"\\b\" + (r\"\\b.+?\\b\").join(subsB[i].split()) + r\"\\b\"\n",
    "        matches = re.findall(target, text, re.IGNORECASE,overlapped=True)\n",
    "    \n",
    "\n",
    "        if matches:\n",
    "            min_match = min(matches, key=len)\n",
    "           \n",
    "            start_index = text.find(min_match)\n",
    "            end_index = start_index + len(min_match)\n",
    "            match1 = re.match(r' ' + pattern + '+', text[end_index:])\n",
    "\n",
    "            if text[end_index]=='.':\n",
    "                min_match = min_match + \".\"    \n",
    "            else:\n",
    "                match1 = re.match(r' ' + pattern + '+', text[end_index:])\n",
    "                if match1:\n",
    "                    matched_chars = match1.group(0)[1:]\n",
    "                    min_match = min_match + \" \" + matched_chars\n",
    "                match2 = re.match(pattern + '+', text[end_index:])\n",
    "                if match2:\n",
    "                    matched_chars = match2.group(0)[0:]\n",
    "                    min_match = min_match + matched_chars\n",
    "\n",
    "\n",
    "        \n",
    "        else:\n",
    "            min_match = '' \n",
    "        \n",
    "        \n",
    "        predictionB.append(min_match)\n"
   ]
  },
  {
   "cell_type": "code",
   "execution_count": 226,
   "metadata": {},
   "outputs": [
    {
     "name": "stdout",
     "output_type": "stream",
     "text": [
      "Как часто брали правильный шаблон: 71.95%\n"
     ]
    }
   ],
   "source": [
    "accuracyB = calculate_accuracy(test_answersB, subsB)\n",
    "\n",
    "print(\"Как часто брали правильный шаблон: {:.2%}\".format(accuracyB))"
   ]
  },
  {
   "cell_type": "code",
   "execution_count": 223,
   "metadata": {},
   "outputs": [
    {
     "name": "stdout",
     "output_type": "stream",
     "text": [
      "Как часто доставали нужную информацию: 59.76%\n"
     ]
    }
   ],
   "source": [
    "accuracy_realB = calculate_accuracy(predictionB, answer_b_test)\n",
    "print(\"Как часто доставали нужную информацию: {:.2%}\".format(accuracy_realB))"
   ]
  },
  {
   "attachments": {},
   "cell_type": "markdown",
   "metadata": {},
   "source": [
    "# тест"
   ]
  },
  {
   "cell_type": "code",
   "execution_count": 64,
   "metadata": {},
   "outputs": [],
   "source": [
    "with open('test.json', 'r') as f:\n",
    "    data_list = json.load(f)\n",
    "\n",
    "text_test = []\n",
    "label = []\n",
    "\n",
    "for data in data_list:\n",
    "\n",
    "    text_test.append(data[\"text\"])\n",
    "    label.append(data[\"label\"])\n",
    "\n",
    "        "
   ]
  },
  {
   "cell_type": "code",
   "execution_count": 83,
   "metadata": {},
   "outputs": [],
   "source": [
    "#TEST\n",
    "preprocessed_test = [preprocess_text(text) for text in text_test]\n",
    "\n",
    "subs_test = []\n",
    "\n",
    "for i in range(len(text_test)):\n",
    "    found_substring = ''\n",
    "    max_length = 0\n",
    "    if label[i] == 'обеспечение исполнения контракта':\n",
    "        for substring in shablon:\n",
    "            match = re.search(substring, preprocessed_test[i])\n",
    "            if match and len(substring) > max_length:\n",
    "                found_substring = substring\n",
    "                max_length = len(substring)\n",
    "  \n",
    "    if label[i] == 'обеспечение гарантийных обязательств':\n",
    "        for substring in shablonB:\n",
    "            match = re.search(substring, preprocessed_test[i])\n",
    "            if match and len(substring) > max_length:\n",
    "                found_substring = substring\n",
    "                max_length = len(substring)\n",
    "    subs_test.append(found_substring)\n",
    "\n"
   ]
  },
  {
   "cell_type": "code",
   "execution_count": 150,
   "metadata": {},
   "outputs": [],
   "source": [
    "predictions = []\n",
    "starts = []\n",
    "ends = []\n",
    "pattern = r'[\\/a-zA-Z0-9№«»,.–%()_:\\-]'\n",
    "for i in range(len(text_test)):\n",
    "    if subs_test[i] == '':\n",
    "        predictions.append('')\n",
    "        starts.append(0)\n",
    "        ends.append(0)\n",
    "    else:\n",
    "        text = text_test[i]\n",
    "        target = r\"\\b\" + (r\"\\b.+?\\b\").join(subs_test[i].split()) + r\"\\b\"\n",
    "        matches = re.findall(target, text, re.IGNORECASE,overlapped=True)\n",
    "    \n",
    "\n",
    "        if matches:\n",
    "            min_match = min(matches, key=len)\n",
    "           \n",
    "            start_index = text.find(min_match)\n",
    "            end_index = start_index + len(min_match)\n",
    "            \n",
    "\n",
    "            if text[end_index]=='.':\n",
    "                min_match = min_match + \".\"    \n",
    "            else:\n",
    "                match1 = re.match(r' ' + pattern + '+', text[end_index:])\n",
    "                if match1:\n",
    "                    matched_chars = match1.group(0)[1:]\n",
    "                    min_match = min_match + \" \" + matched_chars\n",
    "                match2 = re.match(pattern + '+', text[end_index:])\n",
    "                if match2:\n",
    "                    matched_chars = match2.group(0)[0:]\n",
    "                    min_match = min_match + matched_chars\n",
    "                \n",
    "        \n",
    "\n",
    "        else:\n",
    "            min_match = '' \n",
    "\n",
    "        # считаем начала и концы\n",
    "        start = text.find(min_match)\n",
    "        end = start + len(min_match)\n",
    "        if start==-1:\n",
    "            starts.append(0)\n",
    "            ends.append(0)\n",
    "        else:    \n",
    "            starts.append(start)\n",
    "            ends.append(end)\n",
    "            \n",
    "        predictions.append(min_match)\n"
   ]
  },
  {
   "cell_type": "code",
   "execution_count": 157,
   "metadata": {},
   "outputs": [],
   "source": [
    "# запись в файл\n",
    "\n",
    "with open('test.json') as f:\n",
    "  predictions_list=json.load(f)\n",
    "\n",
    "for i in range(len(predictions_list)):\n",
    "  predictions_list[i][\"extracted_part\"] = {\n",
    "    \"text\": predictions[i],\n",
    "    \"answer_start\": starts[i],\n",
    "    \"answer_end\": ends[i]\n",
    "    }\n",
    "\n",
    "with open('predictions.json', 'w') as f:\n",
    "    json.dump(predictions_list, f, ensure_ascii=False)"
   ]
  }
 ],
 "metadata": {
  "kernelspec": {
   "display_name": "Python 3",
   "language": "python",
   "name": "python3"
  },
  "language_info": {
   "codemirror_mode": {
    "name": "ipython",
    "version": 3
   },
   "file_extension": ".py",
   "mimetype": "text/x-python",
   "name": "python",
   "nbconvert_exporter": "python",
   "pygments_lexer": "ipython3",
   "version": "3.10.5"
  },
  "orig_nbformat": 4
 },
 "nbformat": 4,
 "nbformat_minor": 2
}
